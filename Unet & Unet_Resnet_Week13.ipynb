{
  "cells": [
    {
      "cell_type": "code",
      "source": [
        "from google.colab import drive\n",
        "drive.mount('/content/drive')"
      ],
      "metadata": {
        "colab": {
          "base_uri": "https://localhost:8080/"
        },
        "id": "G-B-eMM3_m54",
        "outputId": "93572622-7f52-4d57-9809-b0fc3ae875fe"
      },
      "id": "G-B-eMM3_m54",
      "execution_count": 1,
      "outputs": [
        {
          "output_type": "stream",
          "name": "stdout",
          "text": [
            "Mounted at /content/drive\n"
          ]
        }
      ]
    },
    {
      "cell_type": "markdown",
      "id": "20ff3de5-0d0e-497b-ac75-d5179a3f65d3",
      "metadata": {
        "id": "20ff3de5-0d0e-497b-ac75-d5179a3f65d3"
      },
      "source": [
        "## Utils"
      ]
    },
    {
      "cell_type": "code",
      "execution_count": 1,
      "id": "ad9b681e-370a-4cfa-a452-dd2d7f0cd77f",
      "metadata": {
        "id": "ad9b681e-370a-4cfa-a452-dd2d7f0cd77f"
      },
      "outputs": [],
      "source": [
        "import os\n",
        "import cv2\n",
        "import pandas as pd\n",
        "import numpy as np\n",
        "import random\n",
        "from google.colab.patches import cv2_imshow\n",
        "\n",
        "import torch.nn.functional as F\n",
        "import torch\n",
        "import torch.nn as nn\n",
        "from torch.utils.data import Dataset, DataLoader, Subset, random_split\n",
        "from torchvision import transforms\n",
        "\n",
        "from tqdm import tqdm\n",
        "import albumentations as A\n",
        "from albumentations.pytorch import ToTensorV2\n",
        "from sklearn.metrics import precision_score, recall_score, f1_score, jaccard_score\n",
        "import matplotlib.pyplot as plt\n",
        "\n",
        "\n",
        "device = torch.device('cuda' if torch.cuda.is_available() else 'cpu')\n",
        "\n",
        "# 랜덤 시드 설정\n",
        "seed = 42\n",
        "torch.manual_seed(seed)\n",
        "random.seed(seed)\n",
        "np.random.seed(seed)\n",
        "if torch.cuda.is_available():\n",
        "    torch.cuda.manual_seed_all(seed)\n",
        "\n"
      ]
    },
    {
      "cell_type": "code",
      "source": [
        "cd /content/drive/MyDrive"
      ],
      "metadata": {
        "colab": {
          "base_uri": "https://localhost:8080/"
        },
        "id": "Z3T0FEZb_krY",
        "outputId": "8f5ad47e-8c9c-4d81-b8e9-bbdd7ac13b43"
      },
      "id": "Z3T0FEZb_krY",
      "execution_count": 2,
      "outputs": [
        {
          "output_type": "stream",
          "name": "stdout",
          "text": [
            "/content/drive/MyDrive\n"
          ]
        }
      ]
    },
    {
      "cell_type": "markdown",
      "id": "be76a29e-e9c2-411a-a569-04166f074184",
      "metadata": {
        "id": "be76a29e-e9c2-411a-a569-04166f074184"
      },
      "source": [
        "## Custom Dataset"
      ]
    },
    {
      "cell_type": "code",
      "execution_count": 3,
      "id": "a8496767-2f64-4285-bec4-c6f53a1fd9d2",
      "metadata": {
        "id": "a8496767-2f64-4285-bec4-c6f53a1fd9d2"
      },
      "outputs": [],
      "source": [
        "class SatelliteDataset(Dataset):\n",
        "    def __init__(self, root_dir, transform=None, infer=False):\n",
        "        self.root_dir = root_dir\n",
        "        self.image_dir = os.path.join(root_dir, 'images')\n",
        "        self.mask_dir = os.path.join(root_dir, 'binary_masks')\n",
        "        self.image_filenames = os.listdir(self.image_dir)\n",
        "\n",
        "        self.infer = infer\n",
        "        self.transform = transform\n",
        "\n",
        "    def __len__(self):\n",
        "        return len(self.image_filenames)\n",
        "\n",
        "    def __getitem__(self, idx):\n",
        "        img_path = os.path.join(self.image_dir, self.image_filenames[idx])\n",
        "        mask_path = os.path.join(self.mask_dir, self.image_filenames[idx].replace('.jpg', '.tif')) #확장자 명만 다름\n",
        "\n",
        "        image = cv2.imread(img_path)\n",
        "        image = cv2.cvtColor(image, cv2.COLOR_BGR2RGB) #jpg랑 cv2에서 RGB 순서 다름.\n",
        "\n",
        "        if self.infer:\n",
        "            if self.transform:\n",
        "                image = self.transform(image=image)['image']\n",
        "            return image\n",
        "\n",
        "        mask = cv2.imread(mask_path, cv2.IMREAD_GRAYSCALE)\n",
        "        mask = mask/255\n",
        "\n",
        "        #전처리입니다.\n",
        "        if self.transform:\n",
        "            augmented = self.transform(image=image, mask=mask)\n",
        "            image = augmented['image']\n",
        "            mask = augmented['mask']\n",
        "\n",
        "        return image, mask"
      ]
    },
    {
      "cell_type": "code",
      "source": [
        " os.kill(os.getpid(), 9)"
      ],
      "metadata": {
        "id": "HiwhoxxX7fc-"
      },
      "id": "HiwhoxxX7fc-",
      "execution_count": null,
      "outputs": []
    },
    {
      "cell_type": "markdown",
      "id": "f42501fc-b573-4893-a7c4-5e280dfdaf09",
      "metadata": {
        "id": "f42501fc-b573-4893-a7c4-5e280dfdaf09"
      },
      "source": [
        "## Define Model"
      ]
    },
    {
      "cell_type": "code",
      "execution_count": 4,
      "id": "65960bfb-803a-4c40-b713-6f647779e4ea",
      "metadata": {
        "id": "65960bfb-803a-4c40-b713-6f647779e4ea"
      },
      "outputs": [],
      "source": [
        "class DoubleConv(nn.Module):\n",
        "    \"\"\"반복되는 conv - BN - ReLU 구조 모듈화\"\"\"\n",
        "    def __init__(self, in_channels, out_channels, mid_channels=None):\n",
        "        super().__init__()\n",
        "        if not mid_channels:\n",
        "            mid_channels = out_channels\n",
        "        self.double_conv = nn.Sequential(\n",
        "            nn.Conv2d(in_channels, mid_channels, kernel_size=3, padding=1),\n",
        "            nn.BatchNorm2d(mid_channels),\n",
        "            nn.ReLU(inplace=True),\n",
        "            nn.Conv2d(mid_channels, out_channels, kernel_size=3, padding=1),\n",
        "            nn.BatchNorm2d(out_channels),\n",
        "            nn.ReLU(inplace=True)\n",
        "        )\n",
        "\n",
        "    def forward(self, x):\n",
        "        return self.double_conv(x)\n",
        "\n",
        "class Down(nn.Module):\n",
        "    \"\"\"Downscaling with maxpool then double conv\"\"\"\n",
        "\n",
        "    def __init__(self, in_channels, out_channels):\n",
        "        super().__init__()\n",
        "        self.maxpool_conv = nn.Sequential(\n",
        "            nn.MaxPool2d(2),\n",
        "            DoubleConv(in_channels, out_channels)\n",
        "        )\n",
        "\n",
        "    def forward(self, x):\n",
        "        return self.maxpool_conv(x)\n",
        "\n",
        "class Up(nn.Module):\n",
        "    \"\"\"Upscaling then double conv\"\"\"\n",
        "\n",
        "    def __init__(self, in_channels, out_channels, bilinear=False):\n",
        "        super().__init__()\n",
        "\n",
        "        if bilinear:\n",
        "            self.up = nn.Upsample(scale_factor=2, mode='bilinear', align_corners=True)\n",
        "            self.conv = DoubleConv(in_channels, out_channels, in_channels // 2)\n",
        "        else:\n",
        "            self.up = nn.ConvTranspose2d(in_channels , in_channels // 2, kernel_size=2, stride=2)\n",
        "            self.conv = DoubleConv(in_channels, out_channels)\n",
        "\n",
        "    def forward(self, x1, x2):\n",
        "        x1 = self.up(x1)\n",
        "        diffY = x2.size()[2] - x1.size()[2]\n",
        "        diffX = x2.size()[3] - x1.size()[3]\n",
        "\n",
        "        x1 = F.pad(x1, [diffX // 2, diffX - diffX // 2,\n",
        "                        diffY // 2, diffY - diffY // 2])\n",
        "\n",
        "        x = torch.cat([x2, x1], dim=1)\n",
        "        return self.conv(x)\n",
        "\n",
        "class OutConv(nn.Module):\n",
        "    def __init__(self, in_channels, out_channels):\n",
        "        super(OutConv, self).__init__()\n",
        "        self.conv = nn.Conv2d(in_channels, out_channels, kernel_size=1)\n",
        "\n",
        "    def forward(self, x):\n",
        "        return self.conv(x)\n",
        "\n",
        "class UNet(nn.Module):\n",
        "    def __init__(self, n_channels, n_classes, bilinear=True):\n",
        "        super(UNet, self).__init__()\n",
        "        self.n_channels = n_channels\n",
        "        self.n_classes = n_classes\n",
        "        self.bilinear = bilinear\n",
        "\n",
        "        self.inc = DoubleConv(n_channels, 64)\n",
        "        self.down1 = Down(64, 128)\n",
        "        self.down2 = Down(128, 256)\n",
        "        self.down3 = Down(256, 512)\n",
        "        factor = 2 if bilinear else 1\n",
        "        self.down4 = Down(512, 1024 // factor)\n",
        "        self.up1 = Up(1024, 512 // factor, bilinear)\n",
        "        self.up2 = Up(512, 256 // factor, bilinear)\n",
        "        self.up3 = Up(256, 128 // factor, bilinear)\n",
        "        self.up4 = Up(128, 64, bilinear)\n",
        "        self.outc = OutConv(64, n_classes)\n",
        "\n",
        "    def forward(self, x):\n",
        "        x1 = self.inc(x)\n",
        "        x2 = self.down1(x1)\n",
        "        x3 = self.down2(x2)\n",
        "        x4 = self.down3(x3)\n",
        "        x5 = self.down4(x4)\n",
        "        x = self.up1(x5, x4)\n",
        "        x = self.up2(x, x3)\n",
        "        x = self.up3(x, x2)\n",
        "        x = self.up4(x, x1)\n",
        "        logits = self.outc(x)\n",
        "        return logits"
      ]
    },
    {
      "cell_type": "markdown",
      "metadata": {
        "id": "1sU6XQImIicm"
      },
      "source": [
        "## Hyper Parameters"
      ],
      "id": "1sU6XQImIicm"
    },
    {
      "cell_type": "code",
      "source": [
        "lr= 0.001\n",
        "epochs = 30\n",
        "batch_size = 16\n"
      ],
      "metadata": {
        "id": "zAjaTsA-Ijrp"
      },
      "id": "zAjaTsA-Ijrp",
      "execution_count": 5,
      "outputs": []
    },
    {
      "cell_type": "markdown",
      "id": "dc955893-22fd-4320-88be-7aa0d790cbd9",
      "metadata": {
        "id": "dc955893-22fd-4320-88be-7aa0d790cbd9"
      },
      "source": [
        "## Data Loader"
      ]
    },
    {
      "cell_type": "code",
      "execution_count": 6,
      "id": "1b708503-2ff9-4584-9d73-40990b3572f8",
      "metadata": {
        "id": "1b708503-2ff9-4584-9d73-40990b3572f8"
      },
      "outputs": [],
      "source": [
        "transform = A.Compose( #학습 전 이미지 불러올때 전처리 결정. 일반적인 image 전처리 수행\n",
        "    [\n",
        "        A.Resize(384, 384),\n",
        "        A.Normalize(),\n",
        "        ToTensorV2()\n",
        "    ]\n",
        ")\n",
        "\n",
        "train_dataset = SatelliteDataset(root_dir='./data/train', transform=transform) #train data 폴더 경로 넣기.\n",
        "train_dataloader = DataLoader(train_dataset, batch_size, shuffle=True, num_workers=2)"
      ]
    },
    {
      "cell_type": "code",
      "source": [
        "dataset_size =  len(train_dataset)\n",
        "# 10%의 Random dataset 데이터셋 생성\n",
        "subset_size = int(0.1 * dataset_size )\n",
        "subset_indices = torch.randperm(dataset_size)[:subset_size]\n",
        "subset_dataset = Subset(train_dataset, subset_indices)\n",
        "subset_dataloader = DataLoader(subset_dataset, batch_size, shuffle=True, num_workers=2)"
      ],
      "metadata": {
        "id": "vx42_PG0Gr3z"
      },
      "id": "vx42_PG0Gr3z",
      "execution_count": 7,
      "outputs": []
    },
    {
      "cell_type": "code",
      "execution_count": 8,
      "id": "12371c8b-0c78-47df-89ec-2d8b55c8ea94",
      "metadata": {
        "id": "12371c8b-0c78-47df-89ec-2d8b55c8ea94"
      },
      "outputs": [],
      "source": [
        "test_dataset = SatelliteDataset(root_dir='./data/test', transform=transform)\n",
        "test_dataloader = DataLoader(test_dataset, batch_size, shuffle=False, num_workers=2)\n",
        "\n",
        "dataset_size =  len(test_dataset)\n",
        "# 10%의 Random dataset 데이터셋 생성\n",
        "subset_size = int(0.1 * dataset_size)\n",
        "subset_indices = torch.randperm(dataset_size)[:subset_size]\n",
        "mini_test = Subset(test_dataset, subset_indices)\n",
        "mini_test_loader = DataLoader(subset_dataset, batch_size, shuffle=True, num_workers=2)"
      ]
    },
    {
      "cell_type": "markdown",
      "id": "a0895765-fba0-4fd9-b955-a6c0e43012e9",
      "metadata": {
        "id": "a0895765-fba0-4fd9-b955-a6c0e43012e9"
      },
      "source": [
        "## Model Train"
      ]
    },
    {
      "cell_type": "code",
      "execution_count": 9,
      "id": "63efb381-98c6-4d9b-a3b6-bd11c7fa8c41",
      "metadata": {
        "colab": {
          "base_uri": "https://localhost:8080/"
        },
        "id": "63efb381-98c6-4d9b-a3b6-bd11c7fa8c41",
        "outputId": "68eadd81-6ab4-4075-f9a9-1141011300c4"
      },
      "outputs": [
        {
          "output_type": "stream",
          "name": "stderr",
          "text": [
            "100%|██████████| 15/15 [00:09<00:00,  1.51it/s]\n",
            "100%|██████████| 15/15 [00:06<00:00,  2.49it/s]\n"
          ]
        },
        {
          "output_type": "stream",
          "name": "stdout",
          "text": [
            "Epoch 1, Loss: 0.46188579003016156, Test Loss : 5.156516536076864\n"
          ]
        },
        {
          "output_type": "stream",
          "name": "stderr",
          "text": [
            "100%|██████████| 15/15 [00:07<00:00,  1.91it/s]\n",
            "100%|██████████| 15/15 [00:05<00:00,  2.54it/s]\n"
          ]
        },
        {
          "output_type": "stream",
          "name": "stdout",
          "text": [
            "Epoch 2, Loss: 0.33241246740023295, Test Loss : 0.398057480653127\n"
          ]
        },
        {
          "output_type": "stream",
          "name": "stderr",
          "text": [
            "100%|██████████| 15/15 [00:07<00:00,  1.89it/s]\n",
            "100%|██████████| 15/15 [00:06<00:00,  2.49it/s]\n"
          ]
        },
        {
          "output_type": "stream",
          "name": "stdout",
          "text": [
            "Epoch 3, Loss: 0.30428282817204794, Test Loss : 0.3069778094689051\n"
          ]
        },
        {
          "output_type": "stream",
          "name": "stderr",
          "text": [
            "100%|██████████| 15/15 [00:07<00:00,  1.89it/s]\n",
            "100%|██████████| 15/15 [00:05<00:00,  2.54it/s]\n"
          ]
        },
        {
          "output_type": "stream",
          "name": "stdout",
          "text": [
            "Epoch 4, Loss: 0.2727236658334732, Test Loss : 0.25176528592904407\n"
          ]
        },
        {
          "output_type": "stream",
          "name": "stderr",
          "text": [
            "100%|██████████| 15/15 [00:07<00:00,  1.89it/s]\n",
            "100%|██████████| 15/15 [00:05<00:00,  2.54it/s]\n"
          ]
        },
        {
          "output_type": "stream",
          "name": "stdout",
          "text": [
            "Epoch 5, Loss: 0.2509206920862198, Test Loss : 0.2475208729505539\n"
          ]
        },
        {
          "output_type": "stream",
          "name": "stderr",
          "text": [
            "100%|██████████| 15/15 [00:07<00:00,  1.89it/s]\n",
            "100%|██████████| 15/15 [00:05<00:00,  2.54it/s]\n"
          ]
        },
        {
          "output_type": "stream",
          "name": "stdout",
          "text": [
            "Epoch 6, Loss: 0.24273494780063629, Test Loss : 0.22241864899794261\n"
          ]
        },
        {
          "output_type": "stream",
          "name": "stderr",
          "text": [
            "100%|██████████| 15/15 [00:07<00:00,  1.89it/s]\n",
            "100%|██████████| 15/15 [00:06<00:00,  2.46it/s]\n"
          ]
        },
        {
          "output_type": "stream",
          "name": "stdout",
          "text": [
            "Epoch 7, Loss: 0.24591186344623567, Test Loss : 0.21279257237911225\n"
          ]
        },
        {
          "output_type": "stream",
          "name": "stderr",
          "text": [
            "100%|██████████| 15/15 [00:07<00:00,  1.89it/s]\n",
            "100%|██████████| 15/15 [00:06<00:00,  2.50it/s]\n"
          ]
        },
        {
          "output_type": "stream",
          "name": "stdout",
          "text": [
            "Epoch 8, Loss: 0.23531528413295746, Test Loss : 0.21577560702959697\n"
          ]
        },
        {
          "output_type": "stream",
          "name": "stderr",
          "text": [
            "100%|██████████| 15/15 [00:08<00:00,  1.86it/s]\n",
            "100%|██████████| 15/15 [00:06<00:00,  2.49it/s]\n"
          ]
        },
        {
          "output_type": "stream",
          "name": "stdout",
          "text": [
            "Epoch 9, Loss: 0.2245819240808487, Test Loss : 0.20504034111897151\n"
          ]
        },
        {
          "output_type": "stream",
          "name": "stderr",
          "text": [
            "100%|██████████| 15/15 [00:08<00:00,  1.84it/s]\n",
            "100%|██████████| 15/15 [00:05<00:00,  2.53it/s]\n"
          ]
        },
        {
          "output_type": "stream",
          "name": "stdout",
          "text": [
            "Epoch 10, Loss: 0.21050252318382262, Test Loss : 0.22801605065663655\n"
          ]
        },
        {
          "output_type": "stream",
          "name": "stderr",
          "text": [
            "100%|██████████| 15/15 [00:07<00:00,  1.88it/s]\n",
            "100%|██████████| 15/15 [00:05<00:00,  2.54it/s]\n"
          ]
        },
        {
          "output_type": "stream",
          "name": "stdout",
          "text": [
            "Epoch 11, Loss: 0.21044113139311474, Test Loss : 0.22284333705902098\n"
          ]
        },
        {
          "output_type": "stream",
          "name": "stderr",
          "text": [
            "100%|██████████| 15/15 [00:07<00:00,  1.88it/s]\n",
            "100%|██████████| 15/15 [00:05<00:00,  2.54it/s]\n"
          ]
        },
        {
          "output_type": "stream",
          "name": "stdout",
          "text": [
            "Epoch 12, Loss: 0.21458154320716857, Test Loss : 0.1999855101108551\n"
          ]
        },
        {
          "output_type": "stream",
          "name": "stderr",
          "text": [
            "100%|██████████| 15/15 [00:07<00:00,  1.88it/s]\n",
            "100%|██████████| 15/15 [00:05<00:00,  2.55it/s]\n"
          ]
        },
        {
          "output_type": "stream",
          "name": "stdout",
          "text": [
            "Epoch 13, Loss: 0.20949608584245047, Test Loss : 0.20101299186547597\n"
          ]
        },
        {
          "output_type": "stream",
          "name": "stderr",
          "text": [
            "100%|██████████| 15/15 [00:07<00:00,  1.88it/s]\n",
            "100%|██████████| 15/15 [00:05<00:00,  2.52it/s]\n"
          ]
        },
        {
          "output_type": "stream",
          "name": "stdout",
          "text": [
            "Epoch 14, Loss: 0.21623830596605936, Test Loss : 0.19972142875194548\n"
          ]
        },
        {
          "output_type": "stream",
          "name": "stderr",
          "text": [
            "100%|██████████| 15/15 [00:08<00:00,  1.87it/s]\n",
            "100%|██████████| 15/15 [00:05<00:00,  2.56it/s]\n"
          ]
        },
        {
          "output_type": "stream",
          "name": "stdout",
          "text": [
            "Epoch 15, Loss: 0.19683153331279754, Test Loss : 0.188823202252388\n"
          ]
        },
        {
          "output_type": "stream",
          "name": "stderr",
          "text": [
            "100%|██████████| 15/15 [00:07<00:00,  1.88it/s]\n",
            "100%|██████████| 15/15 [00:05<00:00,  2.53it/s]\n"
          ]
        },
        {
          "output_type": "stream",
          "name": "stdout",
          "text": [
            "Epoch 16, Loss: 0.1872584581375122, Test Loss : 0.18358965317408243\n"
          ]
        },
        {
          "output_type": "stream",
          "name": "stderr",
          "text": [
            "100%|██████████| 15/15 [00:07<00:00,  1.88it/s]\n",
            "100%|██████████| 15/15 [00:05<00:00,  2.53it/s]\n"
          ]
        },
        {
          "output_type": "stream",
          "name": "stdout",
          "text": [
            "Epoch 17, Loss: 0.19288415710131326, Test Loss : 0.1901838819185893\n"
          ]
        },
        {
          "output_type": "stream",
          "name": "stderr",
          "text": [
            "100%|██████████| 15/15 [00:07<00:00,  1.88it/s]\n",
            "100%|██████████| 15/15 [00:05<00:00,  2.50it/s]\n"
          ]
        },
        {
          "output_type": "stream",
          "name": "stdout",
          "text": [
            "Epoch 18, Loss: 0.19149270057678222, Test Loss : 0.24756284256776173\n"
          ]
        },
        {
          "output_type": "stream",
          "name": "stderr",
          "text": [
            "100%|██████████| 15/15 [00:07<00:00,  1.88it/s]\n",
            "100%|██████████| 15/15 [00:05<00:00,  2.51it/s]\n"
          ]
        },
        {
          "output_type": "stream",
          "name": "stdout",
          "text": [
            "Epoch 19, Loss: 0.2056098481019338, Test Loss : 0.2316318263610204\n"
          ]
        },
        {
          "output_type": "stream",
          "name": "stderr",
          "text": [
            "100%|██████████| 15/15 [00:07<00:00,  1.89it/s]\n",
            "100%|██████████| 15/15 [00:05<00:00,  2.51it/s]\n"
          ]
        },
        {
          "output_type": "stream",
          "name": "stdout",
          "text": [
            "Epoch 20, Loss: 0.19431958297888438, Test Loss : 0.188544366757075\n"
          ]
        },
        {
          "output_type": "stream",
          "name": "stderr",
          "text": [
            "100%|██████████| 15/15 [00:07<00:00,  1.89it/s]\n",
            "100%|██████████| 15/15 [00:05<00:00,  2.54it/s]\n"
          ]
        },
        {
          "output_type": "stream",
          "name": "stdout",
          "text": [
            "Epoch 21, Loss: 0.18283654948075612, Test Loss : 0.16831047336260477\n"
          ]
        },
        {
          "output_type": "stream",
          "name": "stderr",
          "text": [
            "100%|██████████| 15/15 [00:07<00:00,  1.88it/s]\n",
            "100%|██████████| 15/15 [00:05<00:00,  2.56it/s]\n"
          ]
        },
        {
          "output_type": "stream",
          "name": "stdout",
          "text": [
            "Epoch 22, Loss: 0.17729584674040477, Test Loss : 0.1679237241546313\n"
          ]
        },
        {
          "output_type": "stream",
          "name": "stderr",
          "text": [
            "100%|██████████| 15/15 [00:08<00:00,  1.87it/s]\n",
            "100%|██████████| 15/15 [00:05<00:00,  2.53it/s]\n"
          ]
        },
        {
          "output_type": "stream",
          "name": "stdout",
          "text": [
            "Epoch 23, Loss: 0.1681395063797633, Test Loss : 0.15549357781807582\n"
          ]
        },
        {
          "output_type": "stream",
          "name": "stderr",
          "text": [
            "100%|██████████| 15/15 [00:07<00:00,  1.88it/s]\n",
            "100%|██████████| 15/15 [00:05<00:00,  2.52it/s]\n"
          ]
        },
        {
          "output_type": "stream",
          "name": "stdout",
          "text": [
            "Epoch 24, Loss: 0.17045393685499827, Test Loss : 0.15998224765062333\n"
          ]
        },
        {
          "output_type": "stream",
          "name": "stderr",
          "text": [
            "100%|██████████| 15/15 [00:07<00:00,  1.88it/s]\n",
            "100%|██████████| 15/15 [00:05<00:00,  2.54it/s]\n"
          ]
        },
        {
          "output_type": "stream",
          "name": "stdout",
          "text": [
            "Epoch 25, Loss: 0.1707105189561844, Test Loss : 0.18603646953900654\n"
          ]
        },
        {
          "output_type": "stream",
          "name": "stderr",
          "text": [
            "100%|██████████| 15/15 [00:07<00:00,  1.88it/s]\n",
            "100%|██████████| 15/15 [00:05<00:00,  2.52it/s]\n"
          ]
        },
        {
          "output_type": "stream",
          "name": "stdout",
          "text": [
            "Epoch 26, Loss: 0.1794796347618103, Test Loss : 0.1729411631822586\n"
          ]
        },
        {
          "output_type": "stream",
          "name": "stderr",
          "text": [
            "100%|██████████| 15/15 [00:07<00:00,  1.88it/s]\n",
            "100%|██████████| 15/15 [00:06<00:00,  2.49it/s]\n"
          ]
        },
        {
          "output_type": "stream",
          "name": "stdout",
          "text": [
            "Epoch 27, Loss: 0.16919719974199932, Test Loss : 0.18492839336395264\n"
          ]
        },
        {
          "output_type": "stream",
          "name": "stderr",
          "text": [
            "100%|██████████| 15/15 [00:07<00:00,  1.88it/s]\n",
            "100%|██████████| 15/15 [00:05<00:00,  2.53it/s]\n"
          ]
        },
        {
          "output_type": "stream",
          "name": "stdout",
          "text": [
            "Epoch 28, Loss: 0.17382305413484572, Test Loss : 0.15439889480670294\n"
          ]
        },
        {
          "output_type": "stream",
          "name": "stderr",
          "text": [
            "100%|██████████| 15/15 [00:07<00:00,  1.89it/s]\n",
            "100%|██████████| 15/15 [00:05<00:00,  2.55it/s]\n"
          ]
        },
        {
          "output_type": "stream",
          "name": "stdout",
          "text": [
            "Epoch 29, Loss: 0.16236067414283753, Test Loss : 0.15044371038675308\n"
          ]
        },
        {
          "output_type": "stream",
          "name": "stderr",
          "text": [
            "100%|██████████| 15/15 [00:08<00:00,  1.87it/s]\n",
            "100%|██████████| 15/15 [00:05<00:00,  2.58it/s]"
          ]
        },
        {
          "output_type": "stream",
          "name": "stdout",
          "text": [
            "Epoch 30, Loss: 0.15814779400825502, Test Loss : 0.1485224947333336\n"
          ]
        },
        {
          "output_type": "stream",
          "name": "stderr",
          "text": [
            "\n"
          ]
        }
      ],
      "source": [
        "# model 초기화\n",
        "model = UNet(3,1).to(device)\n",
        "\n",
        "# loss function과 optimizer 정의\n",
        "criterion = torch.nn.BCEWithLogitsLoss()\n",
        "optimizer = torch.optim.Adam(model.parameters(), lr)\n",
        "\n",
        "#### 10%로만 할지 말지 ####\n",
        "train_dataloader = subset_dataloader\n",
        "\n",
        "train_losses = []\n",
        "test_losses = []\n",
        "\n",
        "# training loop\n",
        "for epoch in range(epochs):\n",
        "    model.train()\n",
        "    epoch_loss = 0\n",
        "    for images, masks in tqdm(train_dataloader):\n",
        "      images = images.float().to(device)\n",
        "      masks = masks.float().to(device)\n",
        "\n",
        "      optimizer.zero_grad()\n",
        "      outputs = model(images)\n",
        "      loss = criterion(outputs, masks.unsqueeze(1))\n",
        "\n",
        "      loss.backward()\n",
        "      optimizer.step()\n",
        "\n",
        "      epoch_loss += loss.item()\n",
        "    train_losses.append(epoch_loss/len(train_dataloader))\n",
        "\n",
        "    test_loss=0\n",
        "    with torch.no_grad():\n",
        "      model.eval()\n",
        "      result = []\n",
        "      for images, masks in tqdm(mini_test_loader):\n",
        "          images = images.float().to(device)\n",
        "          masks = masks.float().to(device)\n",
        "\n",
        "          outputs = model(images)\n",
        "          loss = criterion(outputs, masks.unsqueeze(1))\n",
        "          test_loss += loss.item()\n",
        "    test_losses.append(test_loss/len(mini_test_loader))\n",
        "\n",
        "\n",
        "    print(f'Epoch {epoch+1}, Loss: {epoch_loss/len(train_dataloader)}, Test Loss : {test_loss/len(mini_test_loader)}')\n",
        "\n"
      ]
    },
    {
      "cell_type": "code",
      "source": [
        "torch.save(model.state_dict(), './model.pt')"
      ],
      "metadata": {
        "id": "H4R6bQ0Vd2BH"
      },
      "id": "H4R6bQ0Vd2BH",
      "execution_count": 10,
      "outputs": []
    },
    {
      "cell_type": "markdown",
      "source": [
        "## Epoch에 따른 Loss 변화"
      ],
      "metadata": {
        "id": "aY24-YdjIt1T"
      },
      "id": "aY24-YdjIt1T"
    },
    {
      "cell_type": "code",
      "source": [
        "test_losses[0]= train_losses[0] #첫 test loss 너무커서\n",
        "plt.plot(train_losses, label='Train Loss')\n",
        "plt.plot(test_losses, label='Test Loss')\n",
        "plt.title('Training and Testing Loss over Epochs')\n",
        "plt.xlabel('Epoch')\n",
        "plt.ylabel('Loss')\n",
        "plt.legend()\n",
        "plt.show()"
      ],
      "metadata": {
        "colab": {
          "base_uri": "https://localhost:8080/",
          "height": 472
        },
        "id": "fneLBl2mIsAL",
        "outputId": "222750c6-2738-4b7a-892c-673d2fd6db1f"
      },
      "id": "fneLBl2mIsAL",
      "execution_count": 19,
      "outputs": [
        {
          "output_type": "display_data",
          "data": {
            "text/plain": [
              "<Figure size 640x480 with 1 Axes>"
            ],
            "image/png": "[encoded data removed]"
          },
          "metadata": {}
        }
      ]
    },
    {
      "cell_type": "markdown",
      "source": [
        "## 잘 되는지 결과 이미지 출력해보기"
      ],
      "metadata": {
        "id": "he1Oy5VbX8HA"
      },
      "id": "he1Oy5VbX8HA"
    },
    {
      "cell_type": "code",
      "source": [
        "with torch.no_grad():\n",
        "    model.eval()\n",
        "    img = train_dataset[0][0].unsqueeze(0).float().to(device)\n",
        "\n",
        "    output = model(img)\n",
        "    output = torch.sigmoid(output).squeeze(0).permute(1,2,0).cpu().numpy() #output에 sigmoid => 건물일 확률 + shape 이미지 RGB 모양으로\n",
        "    output = (output > 0.5).astype(np.uint8) # Threshold = 0.5 이상이면 건물이라 판단\n",
        "    output = output*255 # 1이면 하얗게 출력하기 위해 255 곱하기\n",
        "\n",
        "    cv2_imshow(output)\n"
      ],
      "metadata": {
        "colab": {
          "base_uri": "https://localhost:8080/",
          "height": 401
        },
        "id": "_uRMl41GW9lB",
        "outputId": "ba508532-6174-4b5c-d0b6-9bd23ef0d85b"
      },
      "id": "_uRMl41GW9lB",
      "execution_count": 26,
      "outputs": [
        {
          "output_type": "display_data",
          "data": {
            "text/plain": [
              "<PIL.Image.Image image mode=RGB size=384x384>"
            ],
            "image/png": "[encoded data removed]"
          },
          "metadata": {}
        }
      ]
    },
    {
      "cell_type": "markdown",
      "id": "c32eb51c-a3fe-4e11-a616-3a717ba16f7e",
      "metadata": {
        "id": "c32eb51c-a3fe-4e11-a616-3a717ba16f7e"
      },
      "source": [
        "## Inference 및 최종 성능 평가"
      ]
    },
    {
      "cell_type": "code",
      "execution_count": 28,
      "id": "355b431c-ac8e-4c40-9046-4d53e4bab14a",
      "metadata": {
        "id": "355b431c-ac8e-4c40-9046-4d53e4bab14a",
        "outputId": "9bef2781-5bde-456a-a8a8-d78f755400ab",
        "colab": {
          "base_uri": "https://localhost:8080/"
        }
      },
      "outputs": [
        {
          "output_type": "stream",
          "name": "stderr",
          "text": [
            "100%|██████████| 15/15 [00:05<00:00,  2.57it/s]\n"
          ]
        },
        {
          "output_type": "stream",
          "name": "stdout",
          "text": [
            "Precision: 0.8620404554338721\n",
            "Recall: 0.6727061512277358\n",
            "IoU: 0.6073225400921565\n",
            "Dice Coefficient: 0.755694672280693\n"
          ]
        }
      ],
      "source": [
        "all_true_masks = []\n",
        "all_predicted_masks = []\n",
        "with torch.no_grad():\n",
        "    model.eval()\n",
        "    result = []\n",
        "    for images, masks in tqdm(mini_test_loader):\n",
        "        images = images.float().to(device)\n",
        "        true_masks = masks.float().to(device)\n",
        "\n",
        "        outputs = model(images)\n",
        "\n",
        "        # CPU로 이동\n",
        "        true_masks = true_masks.squeeze().cpu().numpy()\n",
        "        outputs = outputs.squeeze().cpu().numpy()\n",
        "        outputs = (outputs > 0.5).astype(np.uint8)\n",
        "\n",
        "\n",
        "        # 리스트에 추가\n",
        "        all_true_masks.extend(true_masks)\n",
        "        all_predicted_masks.extend(outputs)\n",
        "\n",
        "# 실제 마스크와 예측 마스크 비교\n",
        "true_masks_flat = np.concatenate(all_true_masks).ravel()\n",
        "predicted_masks_flat = np.concatenate(all_predicted_masks).ravel()\n",
        "\n",
        "# Precision, Recall, IoU, Dice 계산\n",
        "precision = precision_score(true_masks_flat, predicted_masks_flat)\n",
        "recall = recall_score(true_masks_flat, predicted_masks_flat)\n",
        "iou = jaccard_score(true_masks_flat, predicted_masks_flat)\n",
        "dice_coefficient = f1_score(true_masks_flat, predicted_masks_flat)\n",
        "\n",
        "# 결과 출력\n",
        "print(f'Precision: {precision}')\n",
        "print(f'Recall: {recall}')\n",
        "print(f'IoU: {iou}')\n",
        "print(f'Dice Coefficient: {dice_coefficient}')\n",
        "\n"
      ]
    }
  ],
  "metadata": {
    "kernelspec": {
      "display_name": "Python 3",
      "name": "python3"
    },
    "language_info": {
      "codemirror_mode": {
        "name": "ipython",
        "version": 3
      },
      "file_extension": ".py",
      "mimetype": "text/x-python",
      "name": "python",
      "nbconvert_exporter": "python",
      "pygments_lexer": "ipython3",
      "version": "3.10.5"
    },
    "colab": {
      "provenance": [],
      "collapsed_sections": [
        "f42501fc-b573-4893-a7c4-5e280dfdaf09"
      ],
      "gpuType": "V100",
      "machine_shape": "hm"
    },
    "accelerator": "GPU"
  },
  "nbformat": 4,
  "nbformat_minor": 5
}